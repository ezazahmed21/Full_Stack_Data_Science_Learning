{
  "nbformat": 4,
  "nbformat_minor": 0,
  "metadata": {
    "colab": {
      "provenance": [],
      "toc_visible": true,
      "authorship_tag": "ABX9TyMDTwcLQCulVh61RoT1FqLa",
      "include_colab_link": true
    },
    "kernelspec": {
      "name": "python3",
      "display_name": "Python 3"
    },
    "language_info": {
      "name": "python"
    }
  },
  "cells": [
    {
      "cell_type": "markdown",
      "metadata": {
        "id": "view-in-github",
        "colab_type": "text"
      },
      "source": [
        "<a href=\"https://colab.research.google.com/github/ezazahmed21/Full_Stack_Data_Science_Learning/blob/main/PB_001.ipynb\" target=\"_parent\"><img src=\"https://colab.research.google.com/assets/colab-badge.svg\" alt=\"Open In Colab\"/></a>"
      ]
    },
    {
      "cell_type": "markdown",
      "source": [
        "**1.** In the below elements which of them are values or an expression? eg:- values can be integer or string and expressions will be mathematical operators.\n",
        "* , 'hello' ,-87.8 ,- , / ,+\t, 6 "
      ],
      "metadata": {
        "id": "hO-sYWeGLaq8"
      }
    },
    {
      "cell_type": "markdown",
      "source": [
        "**Ans :** \n",
        "\n",
        "**Value** : 'hello',-87.8,6\n",
        "\n",
        "**Expression** : -,/,+,* "
      ],
      "metadata": {
        "id": "QoKSW-xNLxHG"
      }
    },
    {
      "cell_type": "markdown",
      "source": [
        "**2.** What is the difference between string and variable?\n"
      ],
      "metadata": {
        "id": "_hLOoOmOMJyh"
      }
    },
    {
      "cell_type": "markdown",
      "source": [
        "**Ans:**\n",
        "\n",
        "**String** is a group of characters or a single character usually enclosed in Double quotes \" \" or single quotes ' '.\n",
        "\n",
        "Example : \"hello\" or 'hello'\n",
        "\n",
        "\n",
        "**Variable** is used to store of information data assign them. data will be int, float , complex or string etc. = operator is use to assign value in variable. And in python variable is case sensitve.\n",
        "\n",
        "Example : A='hello'"
      ],
      "metadata": {
        "id": "jLtZCRpfMVMW"
      }
    },
    {
      "cell_type": "markdown",
      "source": [
        "**3.** Describe three different data types."
      ],
      "metadata": {
        "id": "eCqBVOVQLfKz"
      }
    },
    {
      "cell_type": "markdown",
      "source": [
        "**Ans:**\n",
        "\n",
        "Three Data types in python are int, float, str.\n",
        "\n",
        "**int data type:** Is use to represent integr values.\n",
        "\n",
        "**float data type:** Is to represent decimal values.\n",
        "\n",
        "**str data type:** Is use to represent String value.\n",
        "\n",
        "In Python, we can identify data type of any value by type().\n",
        "\n"
      ],
      "metadata": {
        "id": "u-LY5K5hLCsI"
      }
    },
    {
      "cell_type": "code",
      "source": [
        "integer_value = 1\n",
        "float_value=1.0\n",
        "string_value=\"hello\"\n",
        "\n",
        "print(f\"{integer_value} data type is {type(integer_value)}\")\n",
        "print(f\"{float_value} data type is {type(float_value)}\")\n",
        "print(f\"{string_value} data type is {type(string_value)}\")"
      ],
      "metadata": {
        "colab": {
          "base_uri": "https://localhost:8080/"
        },
        "id": "9sjM117kQrGv",
        "outputId": "8bd650f0-a3ca-4208-b57e-e2354149cbfa"
      },
      "execution_count": 2,
      "outputs": [
        {
          "output_type": "stream",
          "name": "stdout",
          "text": [
            "1 data type is <class 'int'>\n",
            "1.0 data type is <class 'float'>\n",
            "hello data type is <class 'str'>\n"
          ]
        }
      ]
    },
    {
      "cell_type": "markdown",
      "source": [
        "**4.** What is an expression made up of? What do all expressions do?"
      ],
      "metadata": {
        "id": "g6XKibEcRr9x"
      }
    },
    {
      "cell_type": "markdown",
      "source": [
        "**Ans:**\n",
        "\n",
        "An expression is a combination of operators and operands that is interpreted to produce some other value. In any programming language, an expression is evaluated as per the precedence of its operators. So that if there is more than one operator in an expression, their precedence decides which operation will be performed first. We have many different types of expressions in Python.\n",
        "\n",
        "Type of Expression :\n",
        "\n",
        "Logical\n",
        "\n",
        "Equality\n",
        "\n",
        "Comparision\n",
        "\n",
        "Arthimatic\n",
        "\n",
        "Bitwise \n",
        "\n",
        "Operators for sets and dictionary "
      ],
      "metadata": {
        "id": "qlKEoBGCRySZ"
      }
    },
    {
      "cell_type": "markdown",
      "source": [
        "**5.** This assignment statements, like spam = 10. What is the difference between an\n",
        "expression and a statement?"
      ],
      "metadata": {
        "id": "lHmAA6U7V0aB"
      }
    },
    {
      "cell_type": "markdown",
      "source": [
        "**Ans:**\n",
        "\n",
        "Expression is evaluates as per of its operators and provide some output for the same.\n",
        "\n",
        "Example : 10+3 --> 13\n",
        "\n",
        "Statement is not evaluates and not return anything."
      ],
      "metadata": {
        "id": "Y9vh97OnV3OP"
      }
    },
    {
      "cell_type": "markdown",
      "source": [
        "**6.** After running the following code, what does the variable bacon contain?\n",
        "bacon = 22\n",
        "\n",
        "bacon + 1\n"
      ],
      "metadata": {
        "id": "R_QtqDT1XrnE"
      }
    },
    {
      "cell_type": "markdown",
      "source": [
        "**Ans:**\n",
        "\n",
        "The variable bacon is set to 22 .The expression bacon + 1 does not reassign the value in bacon, So, value in bacon is 22 only."
      ],
      "metadata": {
        "id": "OK9BCfdPX1pK"
      }
    },
    {
      "cell_type": "markdown",
      "source": [
        "**7.** What should the values of the following two terms be?\n",
        "&#39;spam&#39; + &#39;spamspam&#39;\n",
        "&#39;spam&#39; * 3"
      ],
      "metadata": {
        "id": "N5bVINB3YMJH"
      }
    },
    {
      "cell_type": "markdown",
      "source": [
        "**Ans:**\n",
        "\n",
        "Both expressions evaluate to the string 'spamspamspam' Where as the first expression follows String Concatentation and the second expression follows String Multiplication."
      ],
      "metadata": {
        "id": "pUjdruIGYXje"
      }
    },
    {
      "cell_type": "code",
      "source": [
        "print('spam'+'spamspam') # string concatenation\n",
        "print('spam'*3) # string multiplication"
      ],
      "metadata": {
        "colab": {
          "base_uri": "https://localhost:8080/"
        },
        "id": "70vvh2ESRpGx",
        "outputId": "53a348e3-4902-42da-eb0f-d3e71f68458c"
      },
      "execution_count": 3,
      "outputs": [
        {
          "output_type": "stream",
          "name": "stdout",
          "text": [
            "spamspamspam\n",
            "spamspamspam\n"
          ]
        }
      ]
    },
    {
      "cell_type": "markdown",
      "source": [
        "**8.** Why is eggs a valid variable name while 100 is invalid?"
      ],
      "metadata": {
        "id": "AMK1uxRqYqgY"
      }
    },
    {
      "cell_type": "markdown",
      "source": [
        "**Ans:**\n",
        "\n",
        "In python,Variable names cannot begin with a number. \n",
        "\n",
        "Rule for variable are in python :-\n",
        "\n",
        "*   Variable name must start with a letter or the underscore character.\n",
        "*   Variable name cannot start with a number.\n",
        "\n",
        "*   Variable name can only contain alpha-numeric characters and underscores (A-z, 0-9, & _ ).\n",
        "*   Variable names are case-sensitive\n",
        "\n",
        "*   The reserved words(keywords) cannot be used naming the variable.\n",
        "\n",
        "\n",
        "\n",
        "\n",
        "\n",
        "\n",
        "\n",
        "\n",
        "\n",
        "\n",
        "\n",
        "\n",
        "\n",
        "\n",
        "\n",
        "\n",
        "\n",
        "\n",
        "\n"
      ],
      "metadata": {
        "id": "1R4AKmoZZUO6"
      }
    },
    {
      "cell_type": "code",
      "source": [
        "100 = 1\n",
        "\n"
      ],
      "metadata": {
        "colab": {
          "base_uri": "https://localhost:8080/",
          "height": 130
        },
        "id": "eRgfAgmmYhf-",
        "outputId": "c67e835f-b3fe-4233-ec27-093cec224534"
      },
      "execution_count": 5,
      "outputs": [
        {
          "output_type": "error",
          "ename": "SyntaxError",
          "evalue": "ignored",
          "traceback": [
            "\u001b[0;36m  File \u001b[0;32m\"<ipython-input-5-0b1e366487ea>\"\u001b[0;36m, line \u001b[0;32m1\u001b[0m\n\u001b[0;31m    100 = 1\u001b[0m\n\u001b[0m           ^\u001b[0m\n\u001b[0;31mSyntaxError\u001b[0m\u001b[0;31m:\u001b[0m can't assign to literal\n"
          ]
        }
      ]
    },
    {
      "cell_type": "markdown",
      "source": [
        "**9.** What three functions can be used to get the integer, floating-point number, or string\n",
        "version of a value?"
      ],
      "metadata": {
        "id": "lIij_d3ua8J9"
      }
    },
    {
      "cell_type": "markdown",
      "source": [
        "**Ans:**\n",
        "\n",
        "The int(),float(),and str() functions will be use to the get the integer,floating-point number,string version of the value."
      ],
      "metadata": {
        "id": "7sB03XBHbIA4"
      }
    },
    {
      "cell_type": "code",
      "source": [
        "integer_value = 1\n",
        "float_value=1\n",
        "string_value=\"1\"\n",
        "\n",
        "print(f\"{integer_value} data type is {type(integer_value)} and conversion is {int(float_value)}\" )\n",
        "print(f\"{float_value} data type is {type(float_value)} and conversion is {float(integer_value)}\")\n",
        "print(f\"{string_value} data type is {type(string_value)} and conversion is {str(string_value)}\")"
      ],
      "metadata": {
        "colab": {
          "base_uri": "https://localhost:8080/"
        },
        "id": "Djbi3TJuahL6",
        "outputId": "035a7530-083b-4b95-ee85-302fa3793598"
      },
      "execution_count": 9,
      "outputs": [
        {
          "output_type": "stream",
          "name": "stdout",
          "text": [
            "1 data type is <class 'int'> and conversion is 1\n",
            "1 data type is <class 'int'> and conversion is 1.0\n",
            "1 data type is <class 'str'> and conversion is 1\n"
          ]
        }
      ]
    },
    {
      "cell_type": "markdown",
      "source": [
        "**10.** Why does this expression cause an error? How can you fix it?\n",
        "&#39;I have eaten &#39; + 99 + &#39; burritos.&#39;"
      ],
      "metadata": {
        "id": "hkA-1ZbIcEBZ"
      }
    },
    {
      "cell_type": "markdown",
      "source": [
        "**Ans:**\n",
        "\n",
        "This cause of error is 99. As we are try to concate String with integer  value. 99 must be typecasted to a string to fix this error. "
      ],
      "metadata": {
        "id": "1nu6futvcL3i"
      }
    },
    {
      "cell_type": "code",
      "source": [
        "print(\"I have eaten \" + 99 + \" burritos\")\n"
      ],
      "metadata": {
        "colab": {
          "base_uri": "https://localhost:8080/",
          "height": 165
        },
        "id": "PYNKjUdYbrmM",
        "outputId": "7d98d5c9-abef-403b-b8f2-0dae339f9416"
      },
      "execution_count": 10,
      "outputs": [
        {
          "output_type": "error",
          "ename": "TypeError",
          "evalue": "ignored",
          "traceback": [
            "\u001b[0;31m---------------------------------------------------------------------------\u001b[0m",
            "\u001b[0;31mTypeError\u001b[0m                                 Traceback (most recent call last)",
            "\u001b[0;32m<ipython-input-10-032675b7e29d>\u001b[0m in \u001b[0;36m<module>\u001b[0;34m\u001b[0m\n\u001b[0;32m----> 1\u001b[0;31m \u001b[0mprint\u001b[0m\u001b[0;34m(\u001b[0m\u001b[0;34m\"I have eaten \"\u001b[0m \u001b[0;34m+\u001b[0m \u001b[0;36m99\u001b[0m \u001b[0;34m+\u001b[0m \u001b[0;34m\" burritos\"\u001b[0m\u001b[0;34m)\u001b[0m\u001b[0;34m\u001b[0m\u001b[0;34m\u001b[0m\u001b[0m\n\u001b[0m",
            "\u001b[0;31mTypeError\u001b[0m: can only concatenate str (not \"int\") to str"
          ]
        }
      ]
    },
    {
      "cell_type": "code",
      "source": [
        "print(\"I have eaten \" + str(99) + \" burritos\")"
      ],
      "metadata": {
        "colab": {
          "base_uri": "https://localhost:8080/"
        },
        "id": "VSi_lSx6cl4p",
        "outputId": "9444ee91-accf-4765-9769-080960464ebc"
      },
      "execution_count": 11,
      "outputs": [
        {
          "output_type": "stream",
          "name": "stdout",
          "text": [
            "I have eaten 99 burritos\n"
          ]
        }
      ]
    },
    {
      "cell_type": "code",
      "source": [],
      "metadata": {
        "id": "kv1H8oU0cq1B"
      },
      "execution_count": null,
      "outputs": []
    }
  ]
}